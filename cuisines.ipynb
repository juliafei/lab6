{
 "cells": [
  {
   "cell_type": "code",
   "execution_count": 1,
   "metadata": {},
   "outputs": [
    {
     "data": {
      "text/html": [
       "\n",
       "        <div>\n",
       "            <p><b>SparkContext</b></p>\n",
       "\n",
       "            <p><a href=\"http://172-16-13-107.dynapool.nyu.edu:4040\">Spark UI</a></p>\n",
       "\n",
       "            <dl>\n",
       "              <dt>Version</dt>\n",
       "                <dd><code>v2.3.0</code></dd>\n",
       "              <dt>Master</dt>\n",
       "                <dd><code>local[*]</code></dd>\n",
       "              <dt>AppName</dt>\n",
       "                <dd><code>PySparkShell</code></dd>\n",
       "            </dl>\n",
       "        </div>\n",
       "        "
      ],
      "text/plain": [
       "<SparkContext master=local[*] appName=PySparkShell>"
      ]
     },
     "execution_count": 1,
     "metadata": {},
     "output_type": "execute_result"
    }
   ],
   "source": [
    "sc"
   ]
  },
  {
   "cell_type": "code",
   "execution_count": 89,
   "metadata": {},
   "outputs": [],
   "source": [
    "FOOD = '/data/share/bdm/nyc_restaurants.csv'"
   ]
  },
  {
   "cell_type": "code",
   "execution_count": 90,
   "metadata": {
    "scrolled": true
   },
   "outputs": [
    {
     "data": {
      "text/plain": [
       "[(0, 'CAMIS'),\n",
       " (1, 'DBA'),\n",
       " (2, 'BORO'),\n",
       " (3, 'BUILDING'),\n",
       " (4, 'STREET'),\n",
       " (5, 'ZIPCODE'),\n",
       " (6, 'PHONE'),\n",
       " (7, 'CUISINE DESCRIPTION'),\n",
       " (8, 'INSPECTION DATE'),\n",
       " (9, 'ACTION'),\n",
       " (10, 'VIOLATION CODE'),\n",
       " (11, 'VIOLATION DESCRIPTION'),\n",
       " (12, 'CRITICAL FLAG'),\n",
       " (13, 'SCORE'),\n",
       " (14, 'GRADE'),\n",
       " (15, 'GRADE DATE'),\n",
       " (16, 'RECORD DATE'),\n",
       " (17, 'INSPECTION TYPE')]"
      ]
     },
     "execution_count": 90,
     "metadata": {},
     "output_type": "execute_result"
    }
   ],
   "source": [
    "food = sc.textFile(FOOD, use_unicode=False).cache()\n",
    "list(enumerate(food.first().split(',')))"
   ]
  },
  {
   "cell_type": "code",
   "execution_count": 91,
   "metadata": {},
   "outputs": [
    {
     "name": "stdout",
     "output_type": "stream",
     "text": [
      "CAMIS,DBA,BORO,BUILDING,STREET,ZIPCODE,PHONE,CUISINE DESCRIPTION,INSPECTION DATE,ACTION,VIOLATION CODE,VIOLATION DESCRIPTION,CRITICAL FLAG,SCORE,GRADE,GRADE DATE,RECORD DATE,INSPECTION TYPE\n",
      "CAMIS,DBA,BORO,BUILDING,STREET,ZIPCODE,PHONE,CUISINE DESCRIPTION,INSPECTION DATE,ACTION,VIOLATION CODE,VIOLATION DESCRIPTION,CRITICAL FLAG,SCORE,GRADE,GRADE DATE,RECORD DATE,INSPECTION TYPE\n"
     ]
    }
   ],
   "source": [
    "noHeaderRDD = food.filter(lambda x: not x.startswith('CUISINE'))\n",
    "print (food.first())\n",
    "print (noHeaderRDD.first())"
   ]
  },
  {
   "cell_type": "code",
   "execution_count": 92,
   "metadata": {},
   "outputs": [
    {
     "data": {
      "text/plain": [
       "['Chicken',\n",
       " 'Jewish/Kosher',\n",
       " 'Caribbean',\n",
       " 'Italian',\n",
       " 'Korean',\n",
       " 'Donuts',\n",
       " 'Sandwiches/Salads/Mixed Buffet',\n",
       " 'American',\n",
       " 'American',\n",
       " 'Juice, Smoothies, Fruit Salads',\n",
       " 'Pizza/Italian']"
      ]
     },
     "execution_count": 92,
     "metadata": {},
     "output_type": "execute_result"
    }
   ],
   "source": [
    "def getCuisine(partId, list_of_rest):\n",
    "    count = 0\n",
    "    if partId == 0:\n",
    "        list_of_rest.next()\n",
    "    import csv\n",
    "    reader = csv.reader(list_of_rest)\n",
    "    for row in reader:\n",
    "        if row[14]!= 'F':\n",
    "            (cuisine) = (row[7])\n",
    "            count = count + 1\n",
    "            yield (cuisine)\n",
    "\n",
    "cuisine = food.mapPartitionsWithIndex(getCuisine)\n",
    "cuisine.take(11)"
   ]
  },
  {
   "cell_type": "code",
   "execution_count": 118,
   "metadata": {},
   "outputs": [
    {
     "data": {
      "text/plain": [
       "[('american', 25),\n",
       " ('chinese', 6),\n",
       " ('(cuban,', 6),\n",
       " ('american)', 6),\n",
       " ('dominican,', 6),\n",
       " ('central', 6),\n",
       " ('south', 6),\n",
       " ('&', 6),\n",
       " ('rican,', 6),\n",
       " ('puerto', 6)]"
      ]
     },
     "execution_count": 118,
     "metadata": {},
     "output_type": "execute_result"
    }
   ],
   "source": [
    "cc = cuisine.flatMap(lambda line: line.split()) \\\n",
    "        .map(lambda x: (x.lower(), 1)) \\\n",
    "        .groupByKey() \\\n",
    "        .mapValues(lambda values: sum(values))\n",
    "cc.top(10, key=lambda x: x[1])\n",
    "#sorted_cc = sorted(cc, key=lambda tup: tup[1])"
   ]
  },
  {
   "cell_type": "code",
   "execution_count": 99,
   "metadata": {},
   "outputs": [],
   "source": [
    "cc.saveAsTextFile?"
   ]
  },
  {
   "cell_type": "code",
   "execution_count": 115,
   "metadata": {},
   "outputs": [
    {
     "data": {
      "text/plain": [
       "[('mediterranean', 1),\n",
       " ('korean', 1),\n",
       " ('food', 1),\n",
       " ('russian', 1),\n",
       " ('jewish/kosher', 1),\n",
       " ('asian', 1),\n",
       " ('spanish', 1),\n",
       " ('barbecue', 1),\n",
       " ('bagels/pretzels', 1),\n",
       " ('bangladeshi', 1),\n",
       " ('other', 1),\n",
       " ('indian', 1),\n",
       " ('soul', 1),\n",
       " ('greek', 1),\n",
       " ('mexican', 2),\n",
       " ('juice,', 2),\n",
       " ('chicken', 2),\n",
       " ('buffet', 2),\n",
       " ('seafood', 2),\n",
       " ('pizza/italian', 2),\n",
       " ('sandwiches/salads/mixed', 2),\n",
       " ('donuts', 2),\n",
       " ('fruit', 2),\n",
       " ('smoothies,', 2),\n",
       " ('italian', 2),\n",
       " ('delicatessen', 3),\n",
       " ('salads', 3),\n",
       " ('caribbean', 3),\n",
       " ('tex-mex', 3),\n",
       " ('caf\\xc3\\x83\\xc2\\xa9/coffee/tea', 3),\n",
       " ('hamburgers', 4),\n",
       " ('bakery', 5),\n",
       " ('japanese', 5),\n",
       " ('chinese', 6),\n",
       " ('(cuban,', 6),\n",
       " ('american)', 6),\n",
       " ('dominican,', 6),\n",
       " ('central', 6),\n",
       " ('south', 6),\n",
       " ('&', 6),\n",
       " ('rican,', 6),\n",
       " ('puerto', 6),\n",
       " ('pizza', 6),\n",
       " ('latin', 6),\n",
       " ('american', 25)]"
      ]
     },
     "execution_count": 115,
     "metadata": {},
     "output_type": "execute_result"
    }
   ],
   "source": [
    "\n",
    "FOOD = 'outputmore.csv'\n",
    "food = sc.textFile(FOOD, use_unicode=False).cache()\n",
    "list(enumerate(food.first().split(',')))\n",
    "\n",
    "def getCuisine(partId, list_of_rest):\n",
    "    count = 0\n",
    "    if partId == 0:\n",
    "        list_of_rest.next()\n",
    "    import csv\n",
    "    reader = csv.reader(list_of_rest)\n",
    "    for row in reader:\n",
    "        if row[14]!= 'F':\n",
    "            (cuisine) = (row[7])\n",
    "            count = count + 1\n",
    "            yield (cuisine)\n",
    "\n",
    "cuisine = food.mapPartitionsWithIndex(getCuisine)\n",
    "\n",
    "cc = cuisine.flatMap(lambda line: line.split()) \\\n",
    "        .map(lambda x: (x.lower(), 1)) \\\n",
    "        .groupByKey() \\\n",
    "        .mapValues(lambda values: sum(values))\n",
    "cc.top(25, key=lambda x: x[1])\n",
    "\n",
    "ccsorted = cc.sortBy(lambda a: a[1])\n",
    "ccsorted.collect()"
   ]
  },
  {
   "cell_type": "code",
   "execution_count": 117,
   "metadata": {},
   "outputs": [
    {
     "name": "stdout",
     "output_type": "stream",
     "text": [
      "[('mediterranean', 1), ('korean', 1), ('food', 1), ('russian', 1), ('jewish/kosher', 1), ('asian', 1), ('spanish', 1), ('barbecue', 1), ('bagels/pretzels', 1), ('bangladeshi', 1), ('other', 1), ('indian', 1), ('soul', 1), ('greek', 1), ('mexican', 2), ('juice,', 2), ('chicken', 2), ('buffet', 2), ('seafood', 2), ('pizza/italian', 2), ('sandwiches/salads/mixed', 2), ('donuts', 2), ('fruit', 2), ('smoothies,', 2), ('italian', 2), ('delicatessen', 3), ('salads', 3), ('caribbean', 3), ('tex-mex', 3), ('caf\\xc3\\x83\\xc2\\xa9/coffee/tea', 3), ('hamburgers', 4), ('bakery', 5), ('japanese', 5), ('chinese', 6), ('(cuban,', 6), ('american)', 6), ('dominican,', 6), ('central', 6), ('south', 6), ('&', 6), ('rican,', 6), ('puerto', 6), ('pizza', 6), ('latin', 6), ('american', 25)]\n"
     ]
    }
   ],
   "source": [
    "print ccsorted.collect()"
   ]
  },
  {
   "cell_type": "code",
   "execution_count": 119,
   "metadata": {},
   "outputs": [
    {
     "ename": "NameError",
     "evalue": "name 'hello' is not defined",
     "output_type": "error",
     "traceback": [
      "\u001b[0;31m---------------------------------------------------------------------------\u001b[0m",
      "\u001b[0;31mNameError\u001b[0m                                 Traceback (most recent call last)",
      "\u001b[0;32m<ipython-input-119-2a20a4ba3335>\u001b[0m in \u001b[0;36m<module>\u001b[0;34m()\u001b[0m\n\u001b[0;32m----> 1\u001b[0;31m \u001b[0;32mprint\u001b[0m \u001b[0mhello\u001b[0m\u001b[0;34m\u001b[0m\u001b[0m\n\u001b[0m",
      "\u001b[0;31mNameError\u001b[0m: name 'hello' is not defined"
     ]
    }
   ],
   "source": [
    "print hello"
   ]
  },
  {
   "cell_type": "code",
   "execution_count": 122,
   "metadata": {},
   "outputs": [],
   "source": [
    "COMMENTS = \"reddit.jsonl\""
   ]
  },
  {
   "cell_type": "code",
   "execution_count": 124,
   "metadata": {},
   "outputs": [
    {
     "data": {
      "text/plain": [
       "[(0, '{\"score\":-1'),\n",
       " (1, '\"ups\":-1'),\n",
       " (2, '\"created_utc\":1157068927'),\n",
       " (3, '\"author_flair_css_class\":null'),\n",
       " (4, '\"subreddit\":\"reddit.com\"'),\n",
       " (5, '\"subreddit_id\":\"t5_6\"'),\n",
       " (6, '\"stickied\":false'),\n",
       " (7, '\"link_id\":\"t3_fr9p\"'),\n",
       " (8,\n",
       "  '\"body\":\"This is untested territory legally - I can\\'t wait to see what happens to the first entity who exploits someone\\'s uploaded work in a way the creator doesn\\'t like and/or makes loads of money from it and doesn\\'t pay the creator anything. To give them the benefit of the doubt'),\n",
       " (9,\n",
       "  ' I think most \\\\\"sharing\\\\\" site included scary-sounding ToS to protect themselves from some uploader being a jerk: \\\\\"Hey'),\n",
       " (10, \" there's an ad on the same page as my stuff\"),\n",
       " (11, ' I never agreed to that'),\n",
       " (12, ' I\\'m suing you!\\\\\"\\\\r\\\\n\\\\r\\\\nArguably'),\n",
       " (13,\n",
       "  ' these sites have \\\\\"paid\\\\\" their contributors by doing unpaid promotion work and providing hosting.  Anyone have any idea how much it would cost an individual to host and promote a video such that it reaches millions of people?  I think one of these sites will cross a line - e.g. put out a CD/DVD that makes millions and pay nothing to the contributors.  Then we\\'ll see what happens as lawyers see an opportunity to chase big bucks through the courts.\"'),\n",
       " (14, '\"controversiality\":0'),\n",
       " (15, '\"distinguished\":null'),\n",
       " (16, '\"retrieved_on\":1473797859'),\n",
       " (17, '\"gilded\":0'),\n",
       " (18, '\"id\":\"cfuqz\"'),\n",
       " (19, '\"edited\":false'),\n",
       " (20, '\"parent_id\":\"t3_fr9p\"'),\n",
       " (21, '\"author_flair_text\":null'),\n",
       " (22, '\"author\":\"Anderkay\"}')]"
      ]
     },
     "execution_count": 124,
     "metadata": {},
     "output_type": "execute_result"
    }
   ],
   "source": [
    "rdd = sc.textFile(COMMENTS, use_unicode=False).cache()\n",
    "list(enumerate(rdd.first().split(',')))"
   ]
  },
  {
   "cell_type": "code",
   "execution_count": 139,
   "metadata": {},
   "outputs": [
    {
     "data": {
      "text/plain": [
       "['created_utc:1157068946',\n",
       " 'created_utc:1157068993',\n",
       " 'subreddit_id:\"t5_6\"',\n",
       " 'subreddit:\"programming\"',\n",
       " 'score:12',\n",
       " 'body:\"He was probably to stubborn to turn back... that would be a bit embarassing...\"',\n",
       " 'created_utc:1157069314',\n",
       " 'created_utc:1157069566',\n",
       " 'controversiality:0',\n",
       " 'controversiality:0',\n",
       " 'body:\"Personally',\n",
       " 'score:4',\n",
       " 'ups:2',\n",
       " 'body:\"Hiding one\\'s shadow during a picture is very important when it comes to photography .. however in this case .. the beauty is in the shadow .. the photographer\\'s shadow tells what stance he stood as he took the picture .. the photographer\\'s shadow is a unique style (unintended though)\"',\n",
       " 'created_utc:1157070134',\n",
       " 'score:1',\n",
       " 'body:\"Powers of 10 is a film dealing with the relative size of things in the Universe',\n",
       " 'stickied:false',\n",
       " 'body:\"There\\'s a common misconception among people that everything looks black and white to colorblind people .. well it\\'s not true (only in total color blindness you see black and white). There are many different types of degress when it comes to color deficiency .. following images show you how colors change to a color blind person ..\"',\n",
       " 'link_id:\"t3_futq\"',\n",
       " 'body:\"That\\'s pretty wild from an American perspective.  It sounds somewhat similar to England a few hundred years back though.\"',\n",
       " 'controversiality:0',\n",
       " 'body:\"\\\\\"As for sensing pain',\n",
       " 'author_flair_css_class:null',\n",
       " 'ups:2',\n",
       " 'subreddit:\"reddit.com\"',\n",
       " 'subreddit:\"reddit.com\"',\n",
       " 'ups:4',\n",
       " 'body:\"*Yes',\n",
       " 'subreddit_id:\"t5_6\"',\n",
       " 'score:11',\n",
       " 'stickied:false',\n",
       " 'ups:1',\n",
       " 'subreddit:\"reddit.com\"',\n",
       " 'controversiality:1',\n",
       " 'link_id:\"t3_ftqh\"',\n",
       " 'body:\"Where\\'s Olive?\"',\n",
       " 'controversiality:0',\n",
       " 'controversiality:0',\n",
       " 'created_utc:1157071471',\n",
       " 'subreddit:\"reddit.com\"',\n",
       " 'score:1',\n",
       " 'subreddit:\"reddit.com\"',\n",
       " 'stickied:false',\n",
       " 'link_id:\"t3_fumz\"',\n",
       " 'created_utc:1157071659',\n",
       " 'subreddit_id:\"t5_6\"',\n",
       " 'score:-1',\n",
       " 'body:\"Before you post the real explanation',\n",
       " ' I bet she\\'d go for the women-only car - but she shouldn\\'t have to make that choice!  Why can\\'t we have unsegregated cars where people respect each other?\"',\n",
       " 'score:14',\n",
       " 'subreddit:\"reddit.com\"',\n",
       " 'subreddit_id:\"t5_6\"',\n",
       " 'link_id:\"t3_ftqh\"',\n",
       " 'score:-6',\n",
       " 'author_flair_css_class:null',\n",
       " 'subreddit:\"programming\"',\n",
       " ' which are very hard to pin down.  Psychology is not a strict science and mis-diagnosis is extremely common.\\\\r\\\\n\\\\r\\\\nOn the other hand',\n",
       " 'body:\"right',\n",
       " ' the dude in the link is arguing about the convenience',\n",
       " 'subreddit:\"reddit.com\"',\n",
       " 'subreddit:\"reddit.com\"',\n",
       " 'ups:1',\n",
       " 'subreddit_id:\"t5_6\"',\n",
       " 'controversiality:0',\n",
       " ' aspects-oriented programming is a lot more function-oriented and could even simplify OOP implementations in JS [2].\\\\r\\\\n\\\\r\\\\n[1] Lua has proven that it works for scripting as well.\\\\r\\\\n\\\\r\\\\n[2] I envision a future where functions (which are objects) are pointcuts and join points are `Function.prototype` methods and you can do neat things like `alert.after += function {...}`.\"',\n",
       " 'controversiality:0',\n",
       " 'author_flair_css_class:null',\n",
       " 'body:\"None of this is a new language feature. This is a technique building upon delegates using the fact that you can create an array of delegates (or any type) in C#. This is no different than creating an array of (first-class) functions and iterating over them',\n",
       " 'subreddit:\"reddit.com\"',\n",
       " 'body:\"http://www.memritv.org/search.asp?ACT=S9&amp;P1=941\\\\r\\\\n\\\\r\\\\nHey',\n",
       " 'author_flair_css_class:null',\n",
       " 'subreddit_id:\"t5_6\"',\n",
       " 'body:\"[deleted]\"',\n",
       " 'stickied:false',\n",
       " 'author_flair_css_class:null',\n",
       " 'stickied:false',\n",
       " ' an apostle from the Bible',\n",
       " 'controversiality:0',\n",
       " 'ups:4',\n",
       " 'subreddit:\"programming\"',\n",
       " 'stickied:false',\n",
       " 'stickied:false',\n",
       " 'subreddit:\"reddit.com\"',\n",
       " 'stickied:false',\n",
       " 'score:1',\n",
       " 'body:\"You say that the climate model is \\\\\"tenuous at best\\\\\"',\n",
       " 'author_flair_css_class:null',\n",
       " 'controversiality:0',\n",
       " 'subreddit:\"reddit.com\"',\n",
       " 'created_utc:1157074429',\n",
       " 'controversiality:0',\n",
       " 'subreddit:\"reddit.com\"',\n",
       " 'stickied:false',\n",
       " 'author_flair_css_class:null',\n",
       " 'created_utc:1157074585',\n",
       " 'ups:-1',\n",
       " 'subreddit_id:\"t5_2fwo\"',\n",
       " 'link_id:\"t3_ftam\"']"
      ]
     },
     "execution_count": 139,
     "metadata": {},
     "output_type": "execute_result"
    }
   ],
   "source": [
    "def getBody(partId, body):\n",
    "    if partId == 0:\n",
    "        body.next()\n",
    "    import csv\n",
    "    reader = csv.reader(body)\n",
    "    for row in reader:\n",
    "        if row[0] != 'F':\n",
    "            (body2) = (row[8])\n",
    "            yield (body2)\n",
    "            \n",
    "text = rdd.mapPartitionsWithIndex(getBody)\n",
    "text.take(100)"
   ]
  },
  {
   "cell_type": "code",
   "execution_count": 174,
   "metadata": {},
   "outputs": [
    {
     "ename": "AttributeError",
     "evalue": "'tuple' object has no attribute 'lower'",
     "output_type": "error",
     "traceback": [
      "\u001b[0;31m---------------------------------------------------------------------------\u001b[0m",
      "\u001b[0;31mAttributeError\u001b[0m                            Traceback (most recent call last)",
      "\u001b[0;32m<ipython-input-174-995eba83539f>\u001b[0m in \u001b[0;36m<module>\u001b[0;34m()\u001b[0m\n\u001b[1;32m      7\u001b[0m \u001b[0;31m#print subs\u001b[0m\u001b[0;34m\u001b[0m\u001b[0;34m\u001b[0m\u001b[0m\n\u001b[1;32m      8\u001b[0m \u001b[0;34m\u001b[0m\u001b[0m\n\u001b[0;32m----> 9\u001b[0;31m \u001b[0;32mprint\u001b[0m \u001b[0;34m\"\\n\"\u001b[0m\u001b[0;34m.\u001b[0m\u001b[0mjoin\u001b[0m\u001b[0;34m(\u001b[0m\u001b[0ms\u001b[0m \u001b[0;32mfor\u001b[0m \u001b[0ms\u001b[0m \u001b[0;32min\u001b[0m \u001b[0mtext\u001b[0m\u001b[0;34m.\u001b[0m\u001b[0mtake\u001b[0m\u001b[0;34m(\u001b[0m\u001b[0;36m1000\u001b[0m\u001b[0;34m)\u001b[0m \u001b[0;32mif\u001b[0m \u001b[0msub2\u001b[0m\u001b[0;34m.\u001b[0m\u001b[0mlower\u001b[0m\u001b[0;34m(\u001b[0m\u001b[0;34m)\u001b[0m \u001b[0;32min\u001b[0m \u001b[0ms\u001b[0m\u001b[0;34m.\u001b[0m\u001b[0mlower\u001b[0m\u001b[0;34m(\u001b[0m\u001b[0;34m)\u001b[0m\u001b[0;34m)\u001b[0m\u001b[0;34m\u001b[0m\u001b[0m\n\u001b[0m\u001b[1;32m     10\u001b[0m \u001b[0;32mprint\u001b[0m \u001b[0;34m\"\\n\"\u001b[0m\u001b[0;34m.\u001b[0m\u001b[0mjoin\u001b[0m\u001b[0;34m(\u001b[0m\u001b[0ms\u001b[0m \u001b[0;32mfor\u001b[0m \u001b[0ms\u001b[0m \u001b[0;32min\u001b[0m \u001b[0mtext\u001b[0m\u001b[0;34m.\u001b[0m\u001b[0mtake\u001b[0m\u001b[0;34m(\u001b[0m\u001b[0;36m100\u001b[0m\u001b[0;34m)\u001b[0m \u001b[0;32mif\u001b[0m \u001b[0msub\u001b[0m\u001b[0;34m.\u001b[0m\u001b[0mlower\u001b[0m\u001b[0;34m(\u001b[0m\u001b[0;34m)\u001b[0m \u001b[0;32min\u001b[0m \u001b[0ms\u001b[0m\u001b[0;34m.\u001b[0m\u001b[0mlower\u001b[0m\u001b[0;34m(\u001b[0m\u001b[0;34m)\u001b[0m\u001b[0;34m)\u001b[0m\u001b[0;34m\u001b[0m\u001b[0m\n",
      "\u001b[0;32m<ipython-input-174-995eba83539f>\u001b[0m in \u001b[0;36m<genexpr>\u001b[0;34m((s,))\u001b[0m\n\u001b[1;32m      7\u001b[0m \u001b[0;31m#print subs\u001b[0m\u001b[0;34m\u001b[0m\u001b[0;34m\u001b[0m\u001b[0m\n\u001b[1;32m      8\u001b[0m \u001b[0;34m\u001b[0m\u001b[0m\n\u001b[0;32m----> 9\u001b[0;31m \u001b[0;32mprint\u001b[0m \u001b[0;34m\"\\n\"\u001b[0m\u001b[0;34m.\u001b[0m\u001b[0mjoin\u001b[0m\u001b[0;34m(\u001b[0m\u001b[0ms\u001b[0m \u001b[0;32mfor\u001b[0m \u001b[0ms\u001b[0m \u001b[0;32min\u001b[0m \u001b[0mtext\u001b[0m\u001b[0;34m.\u001b[0m\u001b[0mtake\u001b[0m\u001b[0;34m(\u001b[0m\u001b[0;36m1000\u001b[0m\u001b[0;34m)\u001b[0m \u001b[0;32mif\u001b[0m \u001b[0msub2\u001b[0m\u001b[0;34m.\u001b[0m\u001b[0mlower\u001b[0m\u001b[0;34m(\u001b[0m\u001b[0;34m)\u001b[0m \u001b[0;32min\u001b[0m \u001b[0ms\u001b[0m\u001b[0;34m.\u001b[0m\u001b[0mlower\u001b[0m\u001b[0;34m(\u001b[0m\u001b[0;34m)\u001b[0m\u001b[0;34m)\u001b[0m\u001b[0;34m\u001b[0m\u001b[0m\n\u001b[0m\u001b[1;32m     10\u001b[0m \u001b[0;32mprint\u001b[0m \u001b[0;34m\"\\n\"\u001b[0m\u001b[0;34m.\u001b[0m\u001b[0mjoin\u001b[0m\u001b[0;34m(\u001b[0m\u001b[0ms\u001b[0m \u001b[0;32mfor\u001b[0m \u001b[0ms\u001b[0m \u001b[0;32min\u001b[0m \u001b[0mtext\u001b[0m\u001b[0;34m.\u001b[0m\u001b[0mtake\u001b[0m\u001b[0;34m(\u001b[0m\u001b[0;36m100\u001b[0m\u001b[0;34m)\u001b[0m \u001b[0;32mif\u001b[0m \u001b[0msub\u001b[0m\u001b[0;34m.\u001b[0m\u001b[0mlower\u001b[0m\u001b[0;34m(\u001b[0m\u001b[0;34m)\u001b[0m \u001b[0;32min\u001b[0m \u001b[0ms\u001b[0m\u001b[0;34m.\u001b[0m\u001b[0mlower\u001b[0m\u001b[0;34m(\u001b[0m\u001b[0;34m)\u001b[0m\u001b[0;34m)\u001b[0m\u001b[0;34m\u001b[0m\u001b[0m\n",
      "\u001b[0;31mAttributeError\u001b[0m: 'tuple' object has no attribute 'lower'"
     ]
    }
   ],
   "source": [
    "sub = 'body'\n",
    "sub2 = 'Personally'\n",
    "subs = ['Olive', 'Personally', 'Hiding']\n",
    "#print submore.lower()\n",
    "\n",
    "#subs = [[word.lower() for word in sub.split()] for sub in subs]\n",
    "#print subs\n",
    "\n",
    "print \"\\n\".join(s for s in text.take(1000) if sub2.lower() in s.lower())\n",
    "print \"\\n\".join(s for s in text.take(100) if sub.lower() in s.lower())"
   ]
  },
  {
   "cell_type": "code",
   "execution_count": 178,
   "metadata": {},
   "outputs": [
    {
     "ename": "AttributeError",
     "evalue": "'tuple' object has no attribute 'lower'",
     "output_type": "error",
     "traceback": [
      "\u001b[0;31m---------------------------------------------------------------------------\u001b[0m",
      "\u001b[0;31mAttributeError\u001b[0m                            Traceback (most recent call last)",
      "\u001b[0;32m<ipython-input-178-07cc88822a09>\u001b[0m in \u001b[0;36m<module>\u001b[0;34m()\u001b[0m\n\u001b[1;32m      1\u001b[0m \u001b[0msub\u001b[0m \u001b[0;34m=\u001b[0m \u001b[0;34m'body'\u001b[0m\u001b[0;34m\u001b[0m\u001b[0m\n\u001b[1;32m      2\u001b[0m \u001b[0;34m\u001b[0m\u001b[0m\n\u001b[0;32m----> 3\u001b[0;31m \u001b[0;32mprint\u001b[0m \u001b[0;34m\"\\n\"\u001b[0m\u001b[0;34m.\u001b[0m\u001b[0mjoin\u001b[0m\u001b[0;34m(\u001b[0m\u001b[0ms\u001b[0m \u001b[0;32mfor\u001b[0m \u001b[0ms\u001b[0m \u001b[0;32min\u001b[0m \u001b[0mtext\u001b[0m\u001b[0;34m.\u001b[0m\u001b[0mtake\u001b[0m\u001b[0;34m(\u001b[0m\u001b[0;36m1000\u001b[0m\u001b[0;34m)\u001b[0m \u001b[0;32mif\u001b[0m \u001b[0msub\u001b[0m\u001b[0;34m.\u001b[0m\u001b[0mlower\u001b[0m\u001b[0;34m(\u001b[0m\u001b[0;34m)\u001b[0m \u001b[0;32min\u001b[0m \u001b[0ms\u001b[0m\u001b[0;34m.\u001b[0m\u001b[0mlower\u001b[0m\u001b[0;34m(\u001b[0m\u001b[0;34m)\u001b[0m\u001b[0;34m)\u001b[0m\u001b[0;34m\u001b[0m\u001b[0m\n\u001b[0m",
      "\u001b[0;32m<ipython-input-178-07cc88822a09>\u001b[0m in \u001b[0;36m<genexpr>\u001b[0;34m((s,))\u001b[0m\n\u001b[1;32m      1\u001b[0m \u001b[0msub\u001b[0m \u001b[0;34m=\u001b[0m \u001b[0;34m'body'\u001b[0m\u001b[0;34m\u001b[0m\u001b[0m\n\u001b[1;32m      2\u001b[0m \u001b[0;34m\u001b[0m\u001b[0m\n\u001b[0;32m----> 3\u001b[0;31m \u001b[0;32mprint\u001b[0m \u001b[0;34m\"\\n\"\u001b[0m\u001b[0;34m.\u001b[0m\u001b[0mjoin\u001b[0m\u001b[0;34m(\u001b[0m\u001b[0ms\u001b[0m \u001b[0;32mfor\u001b[0m \u001b[0ms\u001b[0m \u001b[0;32min\u001b[0m \u001b[0mtext\u001b[0m\u001b[0;34m.\u001b[0m\u001b[0mtake\u001b[0m\u001b[0;34m(\u001b[0m\u001b[0;36m1000\u001b[0m\u001b[0;34m)\u001b[0m \u001b[0;32mif\u001b[0m \u001b[0msub\u001b[0m\u001b[0;34m.\u001b[0m\u001b[0mlower\u001b[0m\u001b[0;34m(\u001b[0m\u001b[0;34m)\u001b[0m \u001b[0;32min\u001b[0m \u001b[0ms\u001b[0m\u001b[0;34m.\u001b[0m\u001b[0mlower\u001b[0m\u001b[0;34m(\u001b[0m\u001b[0;34m)\u001b[0m\u001b[0;34m)\u001b[0m\u001b[0;34m\u001b[0m\u001b[0m\n\u001b[0m",
      "\u001b[0;31mAttributeError\u001b[0m: 'tuple' object has no attribute 'lower'"
     ]
    }
   ],
   "source": [
    "sub = 'body'\n",
    "submore = ['Olive', 'Personally', 'Hiding']\n",
    "submore = [s.lower() for s in submore]\n",
    "print submore\n",
    "\n",
    "\n",
    "\n",
    "\n",
    "print \"\\n\".join(s for s in text.take(1000) if sub.lower() in s.lower())"
   ]
  },
  {
   "cell_type": "code",
   "execution_count": null,
   "metadata": {},
   "outputs": [],
   "source": [
    "for row in csv.reader(lines):\n",
    "    #row[0] needs to be deduplicated\n",
    "    yield (row[0], (row[7], 1))\n",
    "    \n",
    "rdd.mapPartitionsWithIndex(extract) \\\n",
    "    .reduceByKey(lambda x, y: x) \\ #remove duplicates keep one everytime aggregate \n",
    "    .values()\\\n",
    "    .reduceByKey(lambda x,y: x + y) \\\n",
    "    .sortBy(lambda x: -x[1]) \\\n",
    "    .take(25)"
   ]
  }
 ],
 "metadata": {
  "kernelspec": {
   "display_name": "Python 2",
   "language": "python",
   "name": "python2"
  },
  "language_info": {
   "codemirror_mode": {
    "name": "ipython",
    "version": 2
   },
   "file_extension": ".py",
   "mimetype": "text/x-python",
   "name": "python",
   "nbconvert_exporter": "python",
   "pygments_lexer": "ipython2",
   "version": "2.7.13"
  }
 },
 "nbformat": 4,
 "nbformat_minor": 2
}
