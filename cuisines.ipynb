{
 "cells": [
  {
   "cell_type": "code",
   "execution_count": 1,
   "metadata": {},
   "outputs": [
    {
     "data": {
      "text/html": [
       "\n",
       "        <div>\n",
       "            <p><b>SparkContext</b></p>\n",
       "\n",
       "            <p><a href=\"http://172-16-13-107.dynapool.nyu.edu:4040\">Spark UI</a></p>\n",
       "\n",
       "            <dl>\n",
       "              <dt>Version</dt>\n",
       "                <dd><code>v2.3.0</code></dd>\n",
       "              <dt>Master</dt>\n",
       "                <dd><code>local[*]</code></dd>\n",
       "              <dt>AppName</dt>\n",
       "                <dd><code>PySparkShell</code></dd>\n",
       "            </dl>\n",
       "        </div>\n",
       "        "
      ],
      "text/plain": [
       "<SparkContext master=local[*] appName=PySparkShell>"
      ]
     },
     "execution_count": 1,
     "metadata": {},
     "output_type": "execute_result"
    }
   ],
   "source": [
    "sc"
   ]
  },
  {
   "cell_type": "code",
   "execution_count": 89,
   "metadata": {},
   "outputs": [],
   "source": [
    "FOOD = '/data/share/bdm/nyc_restaurants.csv'"
   ]
  },
  {
   "cell_type": "code",
   "execution_count": 90,
   "metadata": {
    "scrolled": true
   },
   "outputs": [
    {
     "data": {
      "text/plain": [
       "[(0, 'CAMIS'),\n",
       " (1, 'DBA'),\n",
       " (2, 'BORO'),\n",
       " (3, 'BUILDING'),\n",
       " (4, 'STREET'),\n",
       " (5, 'ZIPCODE'),\n",
       " (6, 'PHONE'),\n",
       " (7, 'CUISINE DESCRIPTION'),\n",
       " (8, 'INSPECTION DATE'),\n",
       " (9, 'ACTION'),\n",
       " (10, 'VIOLATION CODE'),\n",
       " (11, 'VIOLATION DESCRIPTION'),\n",
       " (12, 'CRITICAL FLAG'),\n",
       " (13, 'SCORE'),\n",
       " (14, 'GRADE'),\n",
       " (15, 'GRADE DATE'),\n",
       " (16, 'RECORD DATE'),\n",
       " (17, 'INSPECTION TYPE')]"
      ]
     },
     "execution_count": 90,
     "metadata": {},
     "output_type": "execute_result"
    }
   ],
   "source": [
    "food = sc.textFile(FOOD, use_unicode=False).cache()\n",
    "list(enumerate(food.first().split(',')))"
   ]
  },
  {
   "cell_type": "code",
   "execution_count": 91,
   "metadata": {},
   "outputs": [
    {
     "name": "stdout",
     "output_type": "stream",
     "text": [
      "CAMIS,DBA,BORO,BUILDING,STREET,ZIPCODE,PHONE,CUISINE DESCRIPTION,INSPECTION DATE,ACTION,VIOLATION CODE,VIOLATION DESCRIPTION,CRITICAL FLAG,SCORE,GRADE,GRADE DATE,RECORD DATE,INSPECTION TYPE\n",
      "CAMIS,DBA,BORO,BUILDING,STREET,ZIPCODE,PHONE,CUISINE DESCRIPTION,INSPECTION DATE,ACTION,VIOLATION CODE,VIOLATION DESCRIPTION,CRITICAL FLAG,SCORE,GRADE,GRADE DATE,RECORD DATE,INSPECTION TYPE\n"
     ]
    }
   ],
   "source": [
    "noHeaderRDD = food.filter(lambda x: not x.startswith('CUISINE'))\n",
    "print (food.first())\n",
    "print (noHeaderRDD.first())"
   ]
  },
  {
   "cell_type": "code",
   "execution_count": 92,
   "metadata": {},
   "outputs": [
    {
     "data": {
      "text/plain": [
       "['Chicken',\n",
       " 'Jewish/Kosher',\n",
       " 'Caribbean',\n",
       " 'Italian',\n",
       " 'Korean',\n",
       " 'Donuts',\n",
       " 'Sandwiches/Salads/Mixed Buffet',\n",
       " 'American',\n",
       " 'American',\n",
       " 'Juice, Smoothies, Fruit Salads',\n",
       " 'Pizza/Italian']"
      ]
     },
     "execution_count": 92,
     "metadata": {},
     "output_type": "execute_result"
    }
   ],
   "source": [
    "def getCuisine(partId, list_of_rest):\n",
    "    count = 0\n",
    "    if partId == 0:\n",
    "        list_of_rest.next()\n",
    "    import csv\n",
    "    reader = csv.reader(list_of_rest)\n",
    "    for row in reader:\n",
    "        if row[14]!= 'F':\n",
    "            (cuisine) = (row[7])\n",
    "            count = count + 1\n",
    "            yield (cuisine)\n",
    "\n",
    "cuisine = food.mapPartitionsWithIndex(getCuisine)\n",
    "cuisine.take(11)"
   ]
  },
  {
   "cell_type": "code",
   "execution_count": 93,
   "metadata": {},
   "outputs": [
    {
     "data": {
      "text/plain": [
       "[('american', 25),\n",
       " ('chinese', 6),\n",
       " ('(cuban,', 6),\n",
       " ('american)', 6),\n",
       " ('dominican,', 6),\n",
       " ('central', 6),\n",
       " ('south', 6),\n",
       " ('&', 6),\n",
       " ('rican,', 6),\n",
       " ('puerto', 6),\n",
       " ('pizza', 6),\n",
       " ('latin', 6),\n",
       " ('bakery', 5),\n",
       " ('japanese', 5),\n",
       " ('hamburgers', 4),\n",
       " ('delicatessen', 3),\n",
       " ('salads', 3),\n",
       " ('caribbean', 3),\n",
       " ('tex-mex', 3),\n",
       " ('caf\\xc3\\x83\\xc2\\xa9/coffee/tea', 3),\n",
       " ('mexican', 2),\n",
       " ('juice,', 2),\n",
       " ('chicken', 2),\n",
       " ('buffet', 2),\n",
       " ('seafood', 2)]"
      ]
     },
     "execution_count": 93,
     "metadata": {},
     "output_type": "execute_result"
    }
   ],
   "source": [
    "cc = cuisine.flatMap(lambda line: line.split()) \\\n",
    "        .map(lambda x: (x.lower(), 1)) \\\n",
    "        .groupByKey() \\\n",
    "        .mapValues(lambda values: sum(values))\n",
    "cc.top(25, key=lambda x: x[1])\n",
    "#sorted_cc = sorted(cc, key=lambda tup: tup[1])"
   ]
  },
  {
   "cell_type": "code",
   "execution_count": null,
   "metadata": {},
   "outputs": [],
   "source": []
  }
 ],
 "metadata": {
  "kernelspec": {
   "display_name": "Python 2",
   "language": "python",
   "name": "python2"
  },
  "language_info": {
   "codemirror_mode": {
    "name": "ipython",
    "version": 2
   },
   "file_extension": ".py",
   "mimetype": "text/x-python",
   "name": "python",
   "nbconvert_exporter": "python",
   "pygments_lexer": "ipython2",
   "version": "2.7.13"
  }
 },
 "nbformat": 4,
 "nbformat_minor": 2
}
